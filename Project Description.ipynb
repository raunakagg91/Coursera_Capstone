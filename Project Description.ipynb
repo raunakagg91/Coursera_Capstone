{
 "cells": [
  {
   "cell_type": "markdown",
   "metadata": {},
   "source": [
    "Capstone Project: Recommender System for a Food Supplies Contractor"
   ]
  },
  {
   "cell_type": "markdown",
   "metadata": {},
   "source": [
    "Introduction"
   ]
  },
  {
   "cell_type": "markdown",
   "metadata": {},
   "source": [
    "A Food supplies contractor has asked us to build him a recommender system to suggest neighbourhoods where he can open a Warehouse. The contractor is located in the Etobicoke borough of Canada. He provides various kinds of food supplies such as Bakery, Dairy Products, Vegetables, Eggs etc. \n",
    "\n",
    "He would like to locate the warehouse closest to the restaurants so that he can minimize the transportation cost and provide timely and quality delivery. Since he provides almost all sort of food supplies, his potential list of clients will include all kinds of eateries including Bakeries, Cafes, Breweries etc\n",
    "\n",
    "The aim of the project is to build a recommender system which will provide the contractor with a suggested list of Neigbourhoods in descending order (1st in the list will be the most preferred) where he can open his Warehouse"
   ]
  },
  {
   "cell_type": "code",
   "execution_count": null,
   "metadata": {},
   "outputs": [],
   "source": []
  }
 ],
 "metadata": {
  "kernelspec": {
   "display_name": "Python 3",
   "language": "python",
   "name": "python3"
  },
  "language_info": {
   "codemirror_mode": {
    "name": "ipython",
    "version": 3
   },
   "file_extension": ".py",
   "mimetype": "text/x-python",
   "name": "python",
   "nbconvert_exporter": "python",
   "pygments_lexer": "ipython3",
   "version": "3.7.3"
  }
 },
 "nbformat": 4,
 "nbformat_minor": 2
}
