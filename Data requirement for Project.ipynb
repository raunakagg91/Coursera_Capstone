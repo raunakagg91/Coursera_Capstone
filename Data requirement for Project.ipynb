{
 "cells": [
  {
   "cell_type": "markdown",
   "metadata": {},
   "source": [
    "Capstone Project: Recommeder System for a Food Supplies Contrator"
   ]
  },
  {
   "cell_type": "markdown",
   "metadata": {},
   "source": [
    "Data Requirement "
   ]
  },
  {
   "cell_type": "markdown",
   "metadata": {},
   "source": [
    "1)  We need the postal code and neighbourhood data for various boroughs in Canada, specifically Etibocoke. This can be taken from the link https://en.wikipedia.org/wiki/List_of_postal_codes_of_Canada:_M, as done in the last week's project"
   ]
  },
  {
   "cell_type": "markdown",
   "metadata": {},
   "source": [
    "2) We need the location data (latitude and longitude) for various ares in the Etibocke Borough. We can get that through \n",
    "the link below\n",
    "http://cocl.us/Geospatial_data"
   ]
  },
  {
   "cell_type": "markdown",
   "metadata": {},
   "source": [
    "3) We need the venues data for various areas. We can retrieve it through the foursquare API. The venues data will include the restaurant data and we can use it to suggest the neighbourhood where the warehouse should be opened"
   ]
  },
  {
   "cell_type": "code",
   "execution_count": null,
   "metadata": {},
   "outputs": [],
   "source": []
  }
 ],
 "metadata": {
  "kernelspec": {
   "display_name": "Python 3",
   "language": "python",
   "name": "python3"
  },
  "language_info": {
   "codemirror_mode": {
    "name": "ipython",
    "version": 3
   },
   "file_extension": ".py",
   "mimetype": "text/x-python",
   "name": "python",
   "nbconvert_exporter": "python",
   "pygments_lexer": "ipython3",
   "version": "3.7.3"
  }
 },
 "nbformat": 4,
 "nbformat_minor": 2
}
